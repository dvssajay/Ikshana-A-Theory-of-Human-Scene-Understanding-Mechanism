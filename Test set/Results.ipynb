{
 "cells": [
  {
   "cell_type": "code",
   "execution_count": null,
   "metadata": {},
   "outputs": [],
   "source": [
    "import numpy as np\n",
    "import os\n",
    "from PIL import Image, ImageOps"
   ]
  },
  {
   "cell_type": "code",
   "execution_count": null,
   "metadata": {},
   "outputs": [],
   "source": [
    "mapc = np.array([[0.        , 0.        , 0.        ],#1\n",
    "       [0.        , 0.        , 0.        ],#2\n",
    "       [0.        , 0.        , 0.        ],#3\n",
    "       [0.        , 0.        , 0.        ],#4\n",
    "       [0.07843137, 0.07843137, 0.07843137],#5\n",
    "       [0.43529412, 0.29019608, 0.        ],#6\n",
    "       [0.31764706, 0.        , 0.31764706],#7\n",
    "       [0.50196078, 0.25098039, 0.50196078],#8\n",
    "       [0.95686275, 0.1372549 , 0.90980392],#9\n",
    "       [0.98039216, 0.66666667, 0.62745098],#10\n",
    "       [0.90196078, 0.58823529, 0.54901961],#11\n",
    "       [0.2745098 , 0.2745098 , 0.2745098 ],#12\n",
    "       [0.4       , 0.4       , 0.61176471],#13\n",
    "       [0.74509804, 0.6       , 0.6       ],#14\n",
    "       [0.70588235, 0.64705882, 0.70588235],#15\n",
    "       [0.58823529, 0.39215686, 0.39215686],#16\n",
    "       [0.58823529, 0.47058824, 0.35294118],#17\n",
    "       [0.6       , 0.6       , 0.6       ],#18\n",
    "       [0.6       , 0.6       , 0.6       ],#19\n",
    "       [0.98039216, 0.66666667, 0.11764706],#20\n",
    "       [0.8627451 , 0.8627451 , 0.        ],#21\n",
    "       [0.41960784, 0.55686275, 0.1372549 ],#22\n",
    "       [0.59607843, 0.98431373, 0.59607843],#23\n",
    "       [0.2745098 , 0.50980392, 0.70588235],#24\n",
    "       [0.8627451 , 0.07843137, 0.23529412],#25\n",
    "       [1.        , 0.        , 0.        ],#26\n",
    "       [0.        , 0.        , 0.55686275],#27\n",
    "       [0.        , 0.        , 0.2745098 ],#28\n",
    "       [0.        , 0.23529412, 0.39215686],#29\n",
    "       [0.        , 0.        , 0.35294118],#30\n",
    "       [0.        , 0.        , 0.43137255],#31\n",
    "       [0.        , 0.31372549, 0.39215686],#32\n",
    "       [0.        , 0.        , 0.90196078],#33\n",
    "       [0.46666667, 0.04313725, 0.1254902 ],#34\n",
    "       [0.        , 0.        , 0.55686275]])#35"
   ]
  },
  {
   "cell_type": "code",
   "execution_count": null,
   "metadata": {},
   "outputs": [],
   "source": [
    "def color_img(mask):\n",
    "    out = np.empty([1024,2048,3])\n",
    "    for i in range(1024):\n",
    "        for j in range(2048):\n",
    "            x = (mask[i][j]).item()\n",
    "            out[i][j] = mapc[x]\n",
    "    return out"
   ]
  },
  {
   "cell_type": "code",
   "execution_count": null,
   "metadata": {},
   "outputs": [],
   "source": [
    "def main(input_path, output_path):\n",
    "\n",
    "    imgs = [(os.path.join(input_path, f), f) for f in os.listdir(input_path)\n",
    "            if f.endswith('.png')]\n",
    "\n",
    "    for img_path, img_name in imgs:\n",
    "        img =  Image.open(img_path)\n",
    "        img = np.array(img)\n",
    "        out = np.empty([1024,2048,3])\n",
    "        for i in range(1024):\n",
    "            for j in range(2048):\n",
    "                x = img[i][j]\n",
    "                out[i][j] = mapc[x]\n",
    "                \n",
    "        out = Image.fromarray((out * 255).astype(np.uint8))\n",
    "        out.save(output_path + img_name)"
   ]
  },
  {
   "cell_type": "code",
   "execution_count": null,
   "metadata": {},
   "outputs": [],
   "source": [
    "main(\"./Ikshana_1/IkshanaNet-1 Qualitative Results\",\"./1_test/\") #create a folder named 1_test"
   ]
  },
  {
   "cell_type": "code",
   "execution_count": null,
   "metadata": {},
   "outputs": [],
   "source": [
    "main(\"./Ikshana_2/IkshanaNet-2 Qualitative Results\",\"./2_test/\")"
   ]
  },
  {
   "cell_type": "code",
   "execution_count": null,
   "metadata": {},
   "outputs": [],
   "source": [
    "main(\"./Ikshana_3/IkshanaNet-3 Qualitative Results\",\"./1_test/\")"
   ]
  },
  {
   "cell_type": "code",
   "execution_count": null,
   "metadata": {},
   "outputs": [],
   "source": []
  },
  {
   "cell_type": "code",
   "execution_count": null,
   "metadata": {},
   "outputs": [],
   "source": []
  }
 ],
 "metadata": {
  "environment": {
   "name": "pytorch-gpu.1-4.m58",
   "type": "gcloud",
   "uri": "gcr.io/deeplearning-platform-release/pytorch-gpu.1-4:m58"
  },
  "kernelspec": {
   "display_name": "Python 3",
   "language": "python",
   "name": "python3"
  },
  "language_info": {
   "codemirror_mode": {
    "name": "ipython",
    "version": 3
   },
   "file_extension": ".py",
   "mimetype": "text/x-python",
   "name": "python",
   "nbconvert_exporter": "python",
   "pygments_lexer": "ipython3",
   "version": "3.7.8"
  }
 },
 "nbformat": 4,
 "nbformat_minor": 4
}
